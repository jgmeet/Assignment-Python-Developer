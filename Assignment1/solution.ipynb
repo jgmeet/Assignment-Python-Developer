{
 "cells": [
  {
   "cell_type": "code",
   "execution_count": 1,
   "id": "0f636f69",
   "metadata": {},
   "outputs": [],
   "source": [
    "import cv2\n",
    "import pytesseract\n",
    "import numpy as np\n",
    "import pandas as pd\n",
    "import matplotlib.pyplot as plt\n",
    "import re"
   ]
  },
  {
   "cell_type": "code",
   "execution_count": 2,
   "id": "f0baab1c",
   "metadata": {},
   "outputs": [],
   "source": [
    "def preprocess(image):\n",
    "    \n",
    "    # conert to gray scale image\n",
    "    gray_img = cv2.cvtColor(image, cv2.COLOR_BGR2GRAY)\n",
    "    # apply Binary threshold to get clear texts\n",
    "    ret, threshold_image = cv2.threshold(gray_img, 0, 255, cv2.THRESH_BINARY + cv2.THRESH_OTSU)\n",
    "    \n",
    "    # gaussian blur to remove noise for edge detection\n",
    "    gaussianBlur_img = cv2.GaussianBlur(gray_img,(3,3),0)\n",
    "    \n",
    "    return threshold_image, gaussianBlur_img"
   ]
  },
  {
   "cell_type": "code",
   "execution_count": 3,
   "id": "cdf8c1bf",
   "metadata": {},
   "outputs": [],
   "source": [
    "def extract_cells(gaussianBlur_img):\n",
    "    # Canny edge detection\n",
    "    canny = cv2.Canny(gaussianBlur_img, 50, 100)\n",
    "\n",
    "    # detect lines in the image\n",
    "    lines = cv2.HoughLinesP(canny, 2, np.pi/180, 100, np.array([]), minLineLength=180, maxLineGap=10)\n",
    "    \n",
    "    # display lines\n",
    "    def display_lines(img, lines):\n",
    "        img_lines = np.zeros_like(img)\n",
    "        for line in lines:\n",
    "            x1,y1,x2,y2 = line.reshape(4)\n",
    "            cv2.line(img_lines, (x1,y1), (x2,y2), (255,0,0), 5)\n",
    "        return img_lines\n",
    "\n",
    "    lines_img = display_lines(gaussianBlur_img, lines)\n",
    "    cv2.imshow('lines', lines_img)\n",
    "    cv2.waitKey(10000)\n",
    "    cv2.destroyAllWindows()\n",
    "    cv2.waitKey(1)\n",
    "    \n",
    "    # get contours\n",
    "    contours, hierarchy = cv2.findContours(lines_img, cv2.RETR_LIST, cv2.CHAIN_APPROX_SIMPLE)\n",
    "\n",
    "    cordinates = []\n",
    "    for cnt in contours:\n",
    "        x,y,w,h = cv2.boundingRect(cnt) # getting rectangular coordinates of detected contour\n",
    "        cordinates.append((x,y,w,h))\n",
    "\n",
    "    cordinates.sort(key=lambda cell: cell[0])\n",
    "    cordinates.sort(key=lambda cell: cell[1])\n",
    "    \n",
    "    return cordinates[1:]\n",
    "\n",
    "def extract_text_from_cells(threshold_img, cell_regions):\n",
    "    cells_text = []\n",
    "    for cell in cell_regions:\n",
    "        x, y, w, h = cell\n",
    "        cell_img = threshold_img[y:y+h, x:x+w]\n",
    "        cell_text = pytesseract.image_to_string(cell_img)\n",
    "        cells_text.append(cell_text)\n",
    "    return cells_text"
   ]
  },
  {
   "cell_type": "markdown",
   "id": "3a0ed440",
   "metadata": {},
   "source": [
    "cells_text = []\n",
    "N = len(cordinates)\n",
    "for i in range(1,N):\n",
    "        x, y, w, h = cordinates[i]\n",
    "        if w != 692 :\n",
    "            threshold_img = preprocess(img)\n",
    "            cell_img = threshold_img[y:y+h, x:x+w]\n",
    "            cell_text = pytesseract.image_to_string(cell_img)\n",
    "            table_text.append(cell_text)"
   ]
  },
  {
   "cell_type": "code",
   "execution_count": 4,
   "id": "06391062",
   "metadata": {},
   "outputs": [],
   "source": [
    "\n",
    "def create_dataframe(cell_data, rows, cols):\n",
    "    \n",
    "    data_matrix = np.reshape(cell_data, (rows, cols))\n",
    "    df = pd.DataFrame(data_matrix)\n",
    "    return df\n",
    "\n",
    "def save_to_excel(df, filename):\n",
    "\n",
    "    df.to_excel(filename, index=False)\n",
    "\n",
    "def detect_and_extract_table(image_path, output_excel):\n",
    "    \"\"\"Detects and extracts table layout and text from an image.\n",
    "\n",
    "    Args:\n",
    "        image_path: The path to the input image.\n",
    "        output_excel: The filename for the Excel output.\n",
    "    \"\"\"\n",
    "    \n",
    "    img = cv2.imread(image_path)\n",
    "    threshold_img, gaussianBlur_img = preprocess(img)\n",
    "    \n",
    "    cell_regions = extract_cells(gaussianBlur_img)        \n",
    "    cell_data = extract_text_from_cells(threshold_img, cell_regions)\n",
    "\n",
    "    # Infer table dimensions from cell regions\n",
    "    rows = int(np.sqrt(len(cell_regions)))\n",
    "    cols = int(len(cell_regions) / rows)\n",
    "    \n",
    "    print(rows, cols, len(cell_regions), len(cell_data))\n",
    "    \n",
    "    df = create_dataframe(cell_data, rows, cols)\n",
    "    if df is not None:\n",
    "        save_to_excel(df, output_excel)\n",
    "        print(\"Excel file created successfully.\")\n",
    "    else:\n",
    "        print(\"Failed to create DataFrame. No data saved to Excel.\")"
   ]
  },
  {
   "cell_type": "code",
   "execution_count": 5,
   "id": "2f378f07",
   "metadata": {},
   "outputs": [
    {
     "name": "stdout",
     "output_type": "stream",
     "text": [
      "6 7 42 42\n",
      "Excel file created successfully.\n"
     ]
    }
   ],
   "source": [
    "\n",
    "# Example usage\n",
    "image_path = 'Screenshot 2024-03-29 at 2.38.19 AM.png'\n",
    "output_excel = 'output_table.xlsx'\n",
    "detect_and_extract_table(image_path, output_excel)\n"
   ]
  },
  {
   "cell_type": "code",
   "execution_count": null,
   "id": "91704c80",
   "metadata": {},
   "outputs": [],
   "source": []
  }
 ],
 "metadata": {
  "kernelspec": {
   "display_name": "tf",
   "language": "python",
   "name": "tf"
  },
  "language_info": {
   "codemirror_mode": {
    "name": "ipython",
    "version": 3
   },
   "file_extension": ".py",
   "mimetype": "text/x-python",
   "name": "python",
   "nbconvert_exporter": "python",
   "pygments_lexer": "ipython3",
   "version": "3.10.9"
  }
 },
 "nbformat": 4,
 "nbformat_minor": 5
}
